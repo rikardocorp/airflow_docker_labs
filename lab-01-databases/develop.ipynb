{
 "cells": [
  {
   "cell_type": "code",
   "execution_count": 5,
   "metadata": {},
   "outputs": [],
   "source": [
    "import os\n",
    "import sys\n",
    "import pandas as pd\n",
    "from datetime import datetime\n",
    "from pandas import json_normalize"
   ]
  },
  {
   "cell_type": "code",
   "execution_count": 6,
   "metadata": {},
   "outputs": [],
   "source": [
    "stock_symbol_dict = {\n",
    "    'insert_date': str(datetime.now()), \n",
    "    'source_connection': 'mysql',\n",
    "    'source_schema': 'stock',\n",
    "    'source_table': 'stock_symbols', \n",
    "    'key_fields': 'ticker_symbol, stock_name',\n",
    "    'extraction_method': 'jdbc',\n",
    "    'extraction_type': 'full', \n",
    "    'destination_connection': 'postgresql',\n",
    "    'destination_schema': 'stock',\n",
    "    'destination_table': 'stock_symbols', \n",
    "    'target_fields': 'ticker_symbol, stock_name'\n",
    "}\n",
    "\n",
    "stock_values_dict = {\n",
    "    'insert_date': str(datetime.now()), \n",
    "    'source_connection': 'mysql',\n",
    "    'source_schema': 'stock',\n",
    "    'source_table': 'stock_values',\n",
    "    'key_fields': 'ticker_symbol, day_date, close_value, volume, open_value, high_value, low_value',\n",
    "    'extraction_method': 'jdbc',\n",
    "    'extraction_type': 'full', \n",
    "    'destination_connection': 'postgresql',\n",
    "    'destination_schema': 'stock',\n",
    "    'destination_table': 'stock_values',\n",
    "    'target_fields': 'ticker_symbol, day_date, close_value, volume, open_value, high_value, low_value'\n",
    "}"
   ]
  },
  {
   "cell_type": "code",
   "execution_count": 7,
   "metadata": {},
   "outputs": [],
   "source": [
    "data = [stock_symbol_dict, stock_values_dict]"
   ]
  },
  {
   "cell_type": "code",
   "execution_count": 8,
   "metadata": {},
   "outputs": [
    {
     "data": {
      "text/html": [
       "<div>\n",
       "<style scoped>\n",
       "    .dataframe tbody tr th:only-of-type {\n",
       "        vertical-align: middle;\n",
       "    }\n",
       "\n",
       "    .dataframe tbody tr th {\n",
       "        vertical-align: top;\n",
       "    }\n",
       "\n",
       "    .dataframe thead th {\n",
       "        text-align: right;\n",
       "    }\n",
       "</style>\n",
       "<table border=\"1\" class=\"dataframe\">\n",
       "  <thead>\n",
       "    <tr style=\"text-align: right;\">\n",
       "      <th></th>\n",
       "      <th>insert_date</th>\n",
       "      <th>source_connection</th>\n",
       "      <th>source_schema</th>\n",
       "      <th>source_table</th>\n",
       "      <th>key_fields</th>\n",
       "      <th>extraction_method</th>\n",
       "      <th>extraction_type</th>\n",
       "      <th>destination_connection</th>\n",
       "      <th>destination_schema</th>\n",
       "      <th>destination_table</th>\n",
       "      <th>target_fields</th>\n",
       "    </tr>\n",
       "  </thead>\n",
       "  <tbody>\n",
       "    <tr>\n",
       "      <th>0</th>\n",
       "      <td>2023-07-03 21:26:58.237753</td>\n",
       "      <td>mysql</td>\n",
       "      <td>stock</td>\n",
       "      <td>stock_symbols</td>\n",
       "      <td>ticker_symbol, stock_name</td>\n",
       "      <td>jdbc</td>\n",
       "      <td>full</td>\n",
       "      <td>postgresql</td>\n",
       "      <td>stock</td>\n",
       "      <td>stock_symbols</td>\n",
       "      <td>ticker_symbol, stock_name</td>\n",
       "    </tr>\n",
       "    <tr>\n",
       "      <th>1</th>\n",
       "      <td>2023-07-03 21:26:58.237794</td>\n",
       "      <td>mysql</td>\n",
       "      <td>stock</td>\n",
       "      <td>stock_values</td>\n",
       "      <td>ticker_symbol, day_date, close_value, volume, ...</td>\n",
       "      <td>jdbc</td>\n",
       "      <td>full</td>\n",
       "      <td>postgresql</td>\n",
       "      <td>stock</td>\n",
       "      <td>stock_values</td>\n",
       "      <td>ticker_symbol, day_date, close_value, volume, ...</td>\n",
       "    </tr>\n",
       "  </tbody>\n",
       "</table>\n",
       "</div>"
      ],
      "text/plain": [
       "                  insert_date source_connection source_schema   source_table  \\\n",
       "0  2023-07-03 21:26:58.237753             mysql         stock  stock_symbols   \n",
       "1  2023-07-03 21:26:58.237794             mysql         stock   stock_values   \n",
       "\n",
       "                                          key_fields extraction_method  \\\n",
       "0                          ticker_symbol, stock_name              jdbc   \n",
       "1  ticker_symbol, day_date, close_value, volume, ...              jdbc   \n",
       "\n",
       "  extraction_type destination_connection destination_schema destination_table  \\\n",
       "0            full             postgresql              stock     stock_symbols   \n",
       "1            full             postgresql              stock      stock_values   \n",
       "\n",
       "                                       target_fields  \n",
       "0                          ticker_symbol, stock_name  \n",
       "1  ticker_symbol, day_date, close_value, volume, ...  "
      ]
     },
     "execution_count": 8,
     "metadata": {},
     "output_type": "execute_result"
    }
   ],
   "source": [
    "json_normalize(data)"
   ]
  },
  {
   "cell_type": "code",
   "execution_count": 15,
   "metadata": {},
   "outputs": [
    {
     "data": {
      "text/plain": [
       "'/home/rcoronado/project/airflow_docker_labs'"
      ]
     },
     "execution_count": 15,
     "metadata": {},
     "output_type": "execute_result"
    }
   ],
   "source": []
  },
  {
   "cell_type": "code",
   "execution_count": 20,
   "metadata": {},
   "outputs": [
    {
     "name": "stdout",
     "output_type": "stream",
     "text": [
      "---------\n",
      "PATH_ROOT: /home/rcoronado/project/airflow_docker_labs/lab-01-databases/airflow\n",
      "---------\n"
     ]
    }
   ],
   "source": [
    "PATH_BASENAME = os.path.abspath('')\n",
    "PATH_RELATIVE_ROOT = './airflow/'\n",
    "PATH_ROOT = os.path.realpath(os.path.join(PATH_BASENAME, PATH_RELATIVE_ROOT))\n",
    "sys.path.append(PATH_ROOT)\n",
    "\n",
    "print('---------')\n",
    "print(f'PATH_ROOT: {PATH_ROOT}')\n",
    "print('---------')"
   ]
  },
  {
   "cell_type": "code",
   "execution_count": 25,
   "metadata": {},
   "outputs": [],
   "source": [
    "from helpers.connections import Mysql, Postgresql\n",
    "from pandas import DataFrame\n",
    "import os\n",
    "import pandas as pd\n",
    "\n",
    "POSTGRE_HOST, POSTGRE_PORT, POSTGRE_DB_NAME, POSTGRE_USER, POSTGRE_PASSWORD = 'host.docker.internal', '5433', 'postgres_db', 'postgres', 'postgres'\n",
    "MYSQL_HOST, MYSQL_PORT, MYSQL_DB_NAME, MYSQL_USER, MYSQL_PASSWORD = 'host.docker.internal', '3306', 'mysql_db', 'root', 'root_mysql'\n"
   ]
  },
  {
   "cell_type": "code",
   "execution_count": 26,
   "metadata": {},
   "outputs": [],
   "source": [
    "def download_reference_table() -> DataFrame:\n",
    "    \"\"\"\n",
    "    Description: Downloads reference table from PostgreSQL database.\n",
    "    \"\"\"\n",
    "    conn_obj = Postgresql(\n",
    "        host=POSTGRE_HOST, port=POSTGRE_PORT, \n",
    "        db_name=POSTGRE_DB_NAME, user_name=POSTGRE_USER, \n",
    "        password=POSTGRE_PASSWORD)\n",
    "    query = \"\"\"SELECT * FROM etl_manager.database_flow_reference_table\"\"\"\n",
    "    ref_table = conn_obj.execute_query(query=query, return_data=True)\n",
    "    conn_obj.close_connection()  # close connection to greenplum db\n",
    "    return ref_table"
   ]
  },
  {
   "cell_type": "code",
   "execution_count": 27,
   "metadata": {},
   "outputs": [
    {
     "name": "stdout",
     "output_type": "stream",
     "text": [
      "Successfully connected to postgres_db!\n",
      "Query successful\n",
      "Connection is successfully terminated!\n"
     ]
    }
   ],
   "source": [
    "ref_table = download_reference_table()"
   ]
  },
  {
   "cell_type": "code",
   "execution_count": 28,
   "metadata": {},
   "outputs": [
    {
     "data": {
      "text/html": [
       "<div>\n",
       "<style scoped>\n",
       "    .dataframe tbody tr th:only-of-type {\n",
       "        vertical-align: middle;\n",
       "    }\n",
       "\n",
       "    .dataframe tbody tr th {\n",
       "        vertical-align: top;\n",
       "    }\n",
       "\n",
       "    .dataframe thead th {\n",
       "        text-align: right;\n",
       "    }\n",
       "</style>\n",
       "<table border=\"1\" class=\"dataframe\">\n",
       "  <thead>\n",
       "    <tr style=\"text-align: right;\">\n",
       "      <th></th>\n",
       "      <th>insert_date</th>\n",
       "      <th>source_connection</th>\n",
       "      <th>source_schema</th>\n",
       "      <th>source_table</th>\n",
       "      <th>key_fields</th>\n",
       "      <th>extraction_method</th>\n",
       "      <th>extraction_type</th>\n",
       "      <th>destination_connection</th>\n",
       "      <th>destination_schema</th>\n",
       "      <th>destination_table</th>\n",
       "      <th>target_fields</th>\n",
       "    </tr>\n",
       "  </thead>\n",
       "  <tbody>\n",
       "    <tr>\n",
       "      <th>0</th>\n",
       "      <td>2023-07-03 21:30:55.325096</td>\n",
       "      <td>mysql</td>\n",
       "      <td>stock</td>\n",
       "      <td>stock_symbols</td>\n",
       "      <td>ticker_symbol, stock_name</td>\n",
       "      <td>jdbc</td>\n",
       "      <td>full</td>\n",
       "      <td>postgresql</td>\n",
       "      <td>stock</td>\n",
       "      <td>stock_symbols</td>\n",
       "      <td>ticker_symbol, stock_name</td>\n",
       "    </tr>\n",
       "    <tr>\n",
       "      <th>1</th>\n",
       "      <td>2023-07-03 21:30:55.325130</td>\n",
       "      <td>mysql</td>\n",
       "      <td>stock</td>\n",
       "      <td>stock_values</td>\n",
       "      <td>ticker_symbol, day_date, close_value, volume, ...</td>\n",
       "      <td>jdbc</td>\n",
       "      <td>full</td>\n",
       "      <td>postgresql</td>\n",
       "      <td>stock</td>\n",
       "      <td>stock_values</td>\n",
       "      <td>ticker_symbol, day_date, close_value, volume, ...</td>\n",
       "    </tr>\n",
       "  </tbody>\n",
       "</table>\n",
       "</div>"
      ],
      "text/plain": [
       "                 insert_date source_connection source_schema   source_table  \\\n",
       "0 2023-07-03 21:30:55.325096             mysql         stock  stock_symbols   \n",
       "1 2023-07-03 21:30:55.325130             mysql         stock   stock_values   \n",
       "\n",
       "                                          key_fields extraction_method  \\\n",
       "0                          ticker_symbol, stock_name              jdbc   \n",
       "1  ticker_symbol, day_date, close_value, volume, ...              jdbc   \n",
       "\n",
       "  extraction_type destination_connection destination_schema destination_table  \\\n",
       "0            full             postgresql              stock     stock_symbols   \n",
       "1            full             postgresql              stock      stock_values   \n",
       "\n",
       "                                       target_fields  \n",
       "0                          ticker_symbol, stock_name  \n",
       "1  ticker_symbol, day_date, close_value, volume, ...  "
      ]
     },
     "execution_count": 28,
     "metadata": {},
     "output_type": "execute_result"
    }
   ],
   "source": [
    "ref_table"
   ]
  },
  {
   "cell_type": "code",
   "execution_count": 29,
   "metadata": {},
   "outputs": [
    {
     "data": {
      "text/plain": [
       "0    stock\n",
       "1    stock\n",
       "Name: source_schema, dtype: object"
      ]
     },
     "execution_count": 29,
     "metadata": {},
     "output_type": "execute_result"
    }
   ],
   "source": [
    "ref_table.source_schema"
   ]
  },
  {
   "cell_type": "code",
   "execution_count": 38,
   "metadata": {},
   "outputs": [
    {
     "data": {
      "text/plain": [
       "'stock'"
      ]
     },
     "execution_count": 38,
     "metadata": {},
     "output_type": "execute_result"
    }
   ],
   "source": [
    "schemas = ref_table.source_schema.unique().tolist()\n",
    "source_schema = schemas[0]\n",
    "source_schema"
   ]
  },
  {
   "cell_type": "code",
   "execution_count": 39,
   "metadata": {},
   "outputs": [
    {
     "data": {
      "text/html": [
       "<div>\n",
       "<style scoped>\n",
       "    .dataframe tbody tr th:only-of-type {\n",
       "        vertical-align: middle;\n",
       "    }\n",
       "\n",
       "    .dataframe tbody tr th {\n",
       "        vertical-align: top;\n",
       "    }\n",
       "\n",
       "    .dataframe thead th {\n",
       "        text-align: right;\n",
       "    }\n",
       "</style>\n",
       "<table border=\"1\" class=\"dataframe\">\n",
       "  <thead>\n",
       "    <tr style=\"text-align: right;\">\n",
       "      <th></th>\n",
       "      <th>insert_date</th>\n",
       "      <th>source_connection</th>\n",
       "      <th>source_schema</th>\n",
       "      <th>source_table</th>\n",
       "      <th>key_fields</th>\n",
       "      <th>extraction_method</th>\n",
       "      <th>extraction_type</th>\n",
       "      <th>destination_connection</th>\n",
       "      <th>destination_schema</th>\n",
       "      <th>destination_table</th>\n",
       "      <th>target_fields</th>\n",
       "    </tr>\n",
       "  </thead>\n",
       "  <tbody>\n",
       "    <tr>\n",
       "      <th>0</th>\n",
       "      <td>2023-07-03 21:30:55.325096</td>\n",
       "      <td>mysql</td>\n",
       "      <td>stock</td>\n",
       "      <td>stock_symbols</td>\n",
       "      <td>ticker_symbol, stock_name</td>\n",
       "      <td>jdbc</td>\n",
       "      <td>full</td>\n",
       "      <td>postgresql</td>\n",
       "      <td>stock</td>\n",
       "      <td>stock_symbols</td>\n",
       "      <td>ticker_symbol, stock_name</td>\n",
       "    </tr>\n",
       "    <tr>\n",
       "      <th>1</th>\n",
       "      <td>2023-07-03 21:30:55.325130</td>\n",
       "      <td>mysql</td>\n",
       "      <td>stock</td>\n",
       "      <td>stock_values</td>\n",
       "      <td>ticker_symbol, day_date, close_value, volume, ...</td>\n",
       "      <td>jdbc</td>\n",
       "      <td>full</td>\n",
       "      <td>postgresql</td>\n",
       "      <td>stock</td>\n",
       "      <td>stock_values</td>\n",
       "      <td>ticker_symbol, day_date, close_value, volume, ...</td>\n",
       "    </tr>\n",
       "  </tbody>\n",
       "</table>\n",
       "</div>"
      ],
      "text/plain": [
       "                 insert_date source_connection source_schema   source_table  \\\n",
       "0 2023-07-03 21:30:55.325096             mysql         stock  stock_symbols   \n",
       "1 2023-07-03 21:30:55.325130             mysql         stock   stock_values   \n",
       "\n",
       "                                          key_fields extraction_method  \\\n",
       "0                          ticker_symbol, stock_name              jdbc   \n",
       "1  ticker_symbol, day_date, close_value, volume, ...              jdbc   \n",
       "\n",
       "  extraction_type destination_connection destination_schema destination_table  \\\n",
       "0            full             postgresql              stock     stock_symbols   \n",
       "1            full             postgresql              stock      stock_values   \n",
       "\n",
       "                                       target_fields  \n",
       "0                          ticker_symbol, stock_name  \n",
       "1  ticker_symbol, day_date, close_value, volume, ...  "
      ]
     },
     "execution_count": 39,
     "metadata": {},
     "output_type": "execute_result"
    }
   ],
   "source": [
    "schema_tables = ref_table[ref_table.source_schema == source_schema].copy()\n",
    "schema_tables"
   ]
  },
  {
   "cell_type": "code",
   "execution_count": 40,
   "metadata": {},
   "outputs": [
    {
     "name": "stdout",
     "output_type": "stream",
     "text": [
      "source_connection: mysql\n",
      "source_schema: stock\n",
      "source_table: stock_symbols\n",
      "key_fields: ticker_symbol, stock_name\n",
      "--------\n",
      "source_connection: mysql\n",
      "source_schema: stock\n",
      "source_table: stock_values\n",
      "key_fields: ticker_symbol, day_date, close_value, volume, open_value, high_value, low_value\n",
      "--------\n"
     ]
    }
   ],
   "source": [
    "for idx, row in schema_tables.iterrows():\n",
    "    source_connection = row['source_connection']\n",
    "    source_table = row['source_table']\n",
    "    key_fields = row['key_fields']\n",
    "    print('source_connection:', source_connection)\n",
    "    print('source_schema:', source_schema)\n",
    "    print('source_table:', source_table)\n",
    "    print('key_fields:', key_fields)\n",
    "    print('--------')"
   ]
  },
  {
   "cell_type": "code",
   "execution_count": null,
   "metadata": {},
   "outputs": [],
   "source": []
  }
 ],
 "metadata": {
  "kernelspec": {
   "display_name": "py_env",
   "language": "python",
   "name": "python3"
  },
  "language_info": {
   "codemirror_mode": {
    "name": "ipython",
    "version": 3
   },
   "file_extension": ".py",
   "mimetype": "text/x-python",
   "name": "python",
   "nbconvert_exporter": "python",
   "pygments_lexer": "ipython3",
   "version": "3.10.6"
  },
  "orig_nbformat": 4
 },
 "nbformat": 4,
 "nbformat_minor": 2
}
